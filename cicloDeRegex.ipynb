{
 "cells": [
  {
   "cell_type": "code",
   "execution_count": 1,
   "id": "c01cde5d-9cbd-4547-8baa-a2f04988f329",
   "metadata": {},
   "outputs": [],
   "source": [
    "import pandas as pd"
   ]
  },
  {
   "cell_type": "code",
   "execution_count": 2,
   "id": "5f8e4045-6a83-4ad5-b7d1-887d8f1a88da",
   "metadata": {},
   "outputs": [],
   "source": [
    "data = pd.read_csv('C:/Users/mollo/Documents/data/data para prueba map y regex en python/archive/comments.csv', header=0)"
   ]
  },
  {
   "cell_type": "code",
   "execution_count": 3,
   "id": "2bc49b57-95ec-487d-a005-7a5e4ca9df18",
   "metadata": {},
   "outputs": [
    {
     "data": {
      "text/html": [
       "<div>\n",
       "<style scoped>\n",
       "    .dataframe tbody tr th:only-of-type {\n",
       "        vertical-align: middle;\n",
       "    }\n",
       "\n",
       "    .dataframe tbody tr th {\n",
       "        vertical-align: top;\n",
       "    }\n",
       "\n",
       "    .dataframe thead th {\n",
       "        text-align: right;\n",
       "    }\n",
       "</style>\n",
       "<table border=\"1\" class=\"dataframe\">\n",
       "  <thead>\n",
       "    <tr style=\"text-align: right;\">\n",
       "      <th></th>\n",
       "      <th>Unnamed: 0</th>\n",
       "      <th>Video ID</th>\n",
       "      <th>Comment</th>\n",
       "      <th>Likes</th>\n",
       "      <th>Sentiment</th>\n",
       "    </tr>\n",
       "  </thead>\n",
       "  <tbody>\n",
       "    <tr>\n",
       "      <th>0</th>\n",
       "      <td>0</td>\n",
       "      <td>wAZZ-UWGVHI</td>\n",
       "      <td>Let's not forget that Apple Pay in 2014 requir...</td>\n",
       "      <td>95.0</td>\n",
       "      <td>1.0</td>\n",
       "    </tr>\n",
       "    <tr>\n",
       "      <th>1</th>\n",
       "      <td>1</td>\n",
       "      <td>wAZZ-UWGVHI</td>\n",
       "      <td>Here in NZ 50% of retailers don’t even have co...</td>\n",
       "      <td>19.0</td>\n",
       "      <td>0.0</td>\n",
       "    </tr>\n",
       "    <tr>\n",
       "      <th>2</th>\n",
       "      <td>2</td>\n",
       "      <td>wAZZ-UWGVHI</td>\n",
       "      <td>I will forever acknowledge this channel with t...</td>\n",
       "      <td>161.0</td>\n",
       "      <td>2.0</td>\n",
       "    </tr>\n",
       "    <tr>\n",
       "      <th>3</th>\n",
       "      <td>3</td>\n",
       "      <td>wAZZ-UWGVHI</td>\n",
       "      <td>Whenever I go to a place that doesn’t take App...</td>\n",
       "      <td>8.0</td>\n",
       "      <td>0.0</td>\n",
       "    </tr>\n",
       "    <tr>\n",
       "      <th>4</th>\n",
       "      <td>4</td>\n",
       "      <td>wAZZ-UWGVHI</td>\n",
       "      <td>Apple Pay is so convenient, secure, and easy t...</td>\n",
       "      <td>34.0</td>\n",
       "      <td>2.0</td>\n",
       "    </tr>\n",
       "    <tr>\n",
       "      <th>...</th>\n",
       "      <td>...</td>\n",
       "      <td>...</td>\n",
       "      <td>...</td>\n",
       "      <td>...</td>\n",
       "      <td>...</td>\n",
       "    </tr>\n",
       "    <tr>\n",
       "      <th>18404</th>\n",
       "      <td>18404</td>\n",
       "      <td>cyLWtMSry58</td>\n",
       "      <td>I really like the point about engineering tool...</td>\n",
       "      <td>0.0</td>\n",
       "      <td>2.0</td>\n",
       "    </tr>\n",
       "    <tr>\n",
       "      <th>18405</th>\n",
       "      <td>18405</td>\n",
       "      <td>cyLWtMSry58</td>\n",
       "      <td>I’ve just started exploring this field. And th...</td>\n",
       "      <td>20.0</td>\n",
       "      <td>2.0</td>\n",
       "    </tr>\n",
       "    <tr>\n",
       "      <th>18406</th>\n",
       "      <td>18406</td>\n",
       "      <td>cyLWtMSry58</td>\n",
       "      <td>Excelente video con una pregunta filosófica pr...</td>\n",
       "      <td>1.0</td>\n",
       "      <td>1.0</td>\n",
       "    </tr>\n",
       "    <tr>\n",
       "      <th>18407</th>\n",
       "      <td>18407</td>\n",
       "      <td>cyLWtMSry58</td>\n",
       "      <td>Hey Daniel, just discovered your channel a cou...</td>\n",
       "      <td>35.0</td>\n",
       "      <td>2.0</td>\n",
       "    </tr>\n",
       "    <tr>\n",
       "      <th>18408</th>\n",
       "      <td>18408</td>\n",
       "      <td>cyLWtMSry58</td>\n",
       "      <td>This is great. Focus is key. A playful approac...</td>\n",
       "      <td>0.0</td>\n",
       "      <td>2.0</td>\n",
       "    </tr>\n",
       "  </tbody>\n",
       "</table>\n",
       "<p>18409 rows × 5 columns</p>\n",
       "</div>"
      ],
      "text/plain": [
       "       Unnamed: 0     Video ID  \\\n",
       "0               0  wAZZ-UWGVHI   \n",
       "1               1  wAZZ-UWGVHI   \n",
       "2               2  wAZZ-UWGVHI   \n",
       "3               3  wAZZ-UWGVHI   \n",
       "4               4  wAZZ-UWGVHI   \n",
       "...           ...          ...   \n",
       "18404       18404  cyLWtMSry58   \n",
       "18405       18405  cyLWtMSry58   \n",
       "18406       18406  cyLWtMSry58   \n",
       "18407       18407  cyLWtMSry58   \n",
       "18408       18408  cyLWtMSry58   \n",
       "\n",
       "                                                 Comment  Likes  Sentiment  \n",
       "0      Let's not forget that Apple Pay in 2014 requir...   95.0        1.0  \n",
       "1      Here in NZ 50% of retailers don’t even have co...   19.0        0.0  \n",
       "2      I will forever acknowledge this channel with t...  161.0        2.0  \n",
       "3      Whenever I go to a place that doesn’t take App...    8.0        0.0  \n",
       "4      Apple Pay is so convenient, secure, and easy t...   34.0        2.0  \n",
       "...                                                  ...    ...        ...  \n",
       "18404  I really like the point about engineering tool...    0.0        2.0  \n",
       "18405  I’ve just started exploring this field. And th...   20.0        2.0  \n",
       "18406  Excelente video con una pregunta filosófica pr...    1.0        1.0  \n",
       "18407  Hey Daniel, just discovered your channel a cou...   35.0        2.0  \n",
       "18408  This is great. Focus is key. A playful approac...    0.0        2.0  \n",
       "\n",
       "[18409 rows x 5 columns]"
      ]
     },
     "execution_count": 3,
     "metadata": {},
     "output_type": "execute_result"
    }
   ],
   "source": [
    "data"
   ]
  },
  {
   "cell_type": "code",
   "execution_count": 4,
   "id": "f2a5ab4e-e35f-4b6c-b82e-4eb72b988cbd",
   "metadata": {},
   "outputs": [
    {
     "data": {
      "text/plain": [
       "0        Let's not forget that Apple Pay in 2014 requir...\n",
       "1        Here in NZ 50% of retailers don’t even have co...\n",
       "2        I will forever acknowledge this channel with t...\n",
       "3        Whenever I go to a place that doesn’t take App...\n",
       "4        Apple Pay is so convenient, secure, and easy t...\n",
       "                               ...                        \n",
       "18404    I really like the point about engineering tool...\n",
       "18405    I’ve just started exploring this field. And th...\n",
       "18406    Excelente video con una pregunta filosófica pr...\n",
       "18407    Hey Daniel, just discovered your channel a cou...\n",
       "18408    This is great. Focus is key. A playful approac...\n",
       "Name: Comment, Length: 18409, dtype: object"
      ]
     },
     "execution_count": 4,
     "metadata": {},
     "output_type": "execute_result"
    }
   ],
   "source": [
    "data['Comment']"
   ]
  },
  {
   "cell_type": "code",
   "execution_count": 5,
   "id": "dc5e3dbf-dc58-4379-95b7-e852a5349460",
   "metadata": {},
   "outputs": [
    {
     "data": {
      "text/html": [
       "<div>\n",
       "<style scoped>\n",
       "    .dataframe tbody tr th:only-of-type {\n",
       "        vertical-align: middle;\n",
       "    }\n",
       "\n",
       "    .dataframe tbody tr th {\n",
       "        vertical-align: top;\n",
       "    }\n",
       "\n",
       "    .dataframe thead th {\n",
       "        text-align: right;\n",
       "    }\n",
       "</style>\n",
       "<table border=\"1\" class=\"dataframe\">\n",
       "  <thead>\n",
       "    <tr style=\"text-align: right;\">\n",
       "      <th></th>\n",
       "      <th>Comment</th>\n",
       "    </tr>\n",
       "  </thead>\n",
       "  <tbody>\n",
       "    <tr>\n",
       "      <th>0</th>\n",
       "      <td>Let's not forget that Apple Pay in 2014 requir...</td>\n",
       "    </tr>\n",
       "    <tr>\n",
       "      <th>1</th>\n",
       "      <td>Here in NZ 50% of retailers don’t even have co...</td>\n",
       "    </tr>\n",
       "    <tr>\n",
       "      <th>2</th>\n",
       "      <td>I will forever acknowledge this channel with t...</td>\n",
       "    </tr>\n",
       "    <tr>\n",
       "      <th>3</th>\n",
       "      <td>Whenever I go to a place that doesn’t take App...</td>\n",
       "    </tr>\n",
       "    <tr>\n",
       "      <th>4</th>\n",
       "      <td>Apple Pay is so convenient, secure, and easy t...</td>\n",
       "    </tr>\n",
       "  </tbody>\n",
       "</table>\n",
       "</div>"
      ],
      "text/plain": [
       "                                             Comment\n",
       "0  Let's not forget that Apple Pay in 2014 requir...\n",
       "1  Here in NZ 50% of retailers don’t even have co...\n",
       "2  I will forever acknowledge this channel with t...\n",
       "3  Whenever I go to a place that doesn’t take App...\n",
       "4  Apple Pay is so convenient, secure, and easy t..."
      ]
     },
     "execution_count": 5,
     "metadata": {},
     "output_type": "execute_result"
    }
   ],
   "source": [
    "import re\n",
    "new = pd.DataFrame(data.loc[:,'Comment'])\n",
    "new.head()"
   ]
  },
  {
   "cell_type": "code",
   "execution_count": 6,
   "id": "cf6bb04b-b275-42ae-b87a-912ff5e1e1d7",
   "metadata": {},
   "outputs": [
    {
     "data": {
      "text/plain": [
       "0     True\n",
       "1     True\n",
       "2    False\n",
       "3     True\n",
       "4     True\n",
       "Name: Comment, dtype: object"
      ]
     },
     "execution_count": 6,
     "metadata": {},
     "output_type": "execute_result"
    }
   ],
   "source": [
    "new2 = new['Comment'].str.contains('Apple')\n",
    "new2.head()"
   ]
  },
  {
   "cell_type": "code",
   "execution_count": 7,
   "id": "cfea0b0e-ae95-4e8f-ab85-e897bbacdc9e",
   "metadata": {},
   "outputs": [
    {
     "data": {
      "text/plain": [
       "0     True\n",
       "1     True\n",
       "2    False\n",
       "3     True\n",
       "4     True\n",
       "Name: Comment, dtype: object"
      ]
     },
     "execution_count": 7,
     "metadata": {},
     "output_type": "execute_result"
    }
   ],
   "source": [
    "df = pd.DataFrame(data)\n",
    "filtro = df['Comment'].str.contains(\"Apple\", case=False)\n",
    "filtro.head()"
   ]
  },
  {
   "cell_type": "markdown",
   "id": "59d7d9ee-151a-4278-bcae-8804d0e6e49d",
   "metadata": {},
   "source": [
    "## un for que tenga dentro un map que reciba el parametro dentro de i (del for) como cadena a buscar y la lista a iterar por el map sean las filas del dataframe"
   ]
  },
  {
   "cell_type": "code",
   "execution_count": 8,
   "id": "381c5a96-b955-4bb6-ba84-3df0d09fe6d8",
   "metadata": {},
   "outputs": [],
   "source": [
    "listaPalabras = [\"Apple\",\"forever\",\"point\"]"
   ]
  },
  {
   "cell_type": "code",
   "execution_count": 9,
   "id": "f9a16d15-f3e5-4ac7-9073-b40ecec357a8",
   "metadata": {},
   "outputs": [
    {
     "data": {
      "text/plain": [
       "['Apple', 'forever', 'point']"
      ]
     },
     "execution_count": 9,
     "metadata": {},
     "output_type": "execute_result"
    }
   ],
   "source": [
    "listaPalabras"
   ]
  },
  {
   "cell_type": "code",
   "execution_count": 26,
   "id": "25741a75-fc81-4efd-b537-029170339206",
   "metadata": {},
   "outputs": [
    {
     "data": {
      "text/html": [
       "<div>\n",
       "<style scoped>\n",
       "    .dataframe tbody tr th:only-of-type {\n",
       "        vertical-align: middle;\n",
       "    }\n",
       "\n",
       "    .dataframe tbody tr th {\n",
       "        vertical-align: top;\n",
       "    }\n",
       "\n",
       "    .dataframe thead th {\n",
       "        text-align: right;\n",
       "    }\n",
       "</style>\n",
       "<table border=\"1\" class=\"dataframe\">\n",
       "  <thead>\n",
       "    <tr style=\"text-align: right;\">\n",
       "      <th></th>\n",
       "      <th>Unnamed: 0</th>\n",
       "      <th>Video ID</th>\n",
       "      <th>Comment</th>\n",
       "      <th>Likes</th>\n",
       "      <th>Sentiment</th>\n",
       "      <th>ClaseMtto</th>\n",
       "    </tr>\n",
       "  </thead>\n",
       "  <tbody>\n",
       "    <tr>\n",
       "      <th>0</th>\n",
       "      <td>0</td>\n",
       "      <td>wAZZ-UWGVHI</td>\n",
       "      <td>Let's not forget that Apple Pay in 2014 requir...</td>\n",
       "      <td>95.0</td>\n",
       "      <td>1.0</td>\n",
       "      <td>sin clase</td>\n",
       "    </tr>\n",
       "    <tr>\n",
       "      <th>1</th>\n",
       "      <td>1</td>\n",
       "      <td>wAZZ-UWGVHI</td>\n",
       "      <td>Here in NZ 50% of retailers don’t even have co...</td>\n",
       "      <td>19.0</td>\n",
       "      <td>0.0</td>\n",
       "      <td>sin clase</td>\n",
       "    </tr>\n",
       "    <tr>\n",
       "      <th>2</th>\n",
       "      <td>2</td>\n",
       "      <td>wAZZ-UWGVHI</td>\n",
       "      <td>I will forever acknowledge this channel with t...</td>\n",
       "      <td>161.0</td>\n",
       "      <td>2.0</td>\n",
       "      <td>sin clase</td>\n",
       "    </tr>\n",
       "    <tr>\n",
       "      <th>3</th>\n",
       "      <td>3</td>\n",
       "      <td>wAZZ-UWGVHI</td>\n",
       "      <td>Whenever I go to a place that doesn’t take App...</td>\n",
       "      <td>8.0</td>\n",
       "      <td>0.0</td>\n",
       "      <td>sin clase</td>\n",
       "    </tr>\n",
       "    <tr>\n",
       "      <th>4</th>\n",
       "      <td>4</td>\n",
       "      <td>wAZZ-UWGVHI</td>\n",
       "      <td>Apple Pay is so convenient, secure, and easy t...</td>\n",
       "      <td>34.0</td>\n",
       "      <td>2.0</td>\n",
       "      <td>sin clase</td>\n",
       "    </tr>\n",
       "    <tr>\n",
       "      <th>...</th>\n",
       "      <td>...</td>\n",
       "      <td>...</td>\n",
       "      <td>...</td>\n",
       "      <td>...</td>\n",
       "      <td>...</td>\n",
       "      <td>...</td>\n",
       "    </tr>\n",
       "    <tr>\n",
       "      <th>18404</th>\n",
       "      <td>18404</td>\n",
       "      <td>cyLWtMSry58</td>\n",
       "      <td>I really like the point about engineering tool...</td>\n",
       "      <td>0.0</td>\n",
       "      <td>2.0</td>\n",
       "      <td>sin clase</td>\n",
       "    </tr>\n",
       "    <tr>\n",
       "      <th>18405</th>\n",
       "      <td>18405</td>\n",
       "      <td>cyLWtMSry58</td>\n",
       "      <td>I’ve just started exploring this field. And th...</td>\n",
       "      <td>20.0</td>\n",
       "      <td>2.0</td>\n",
       "      <td>sin clase</td>\n",
       "    </tr>\n",
       "    <tr>\n",
       "      <th>18406</th>\n",
       "      <td>18406</td>\n",
       "      <td>cyLWtMSry58</td>\n",
       "      <td>Excelente video con una pregunta filosófica pr...</td>\n",
       "      <td>1.0</td>\n",
       "      <td>1.0</td>\n",
       "      <td>sin clase</td>\n",
       "    </tr>\n",
       "    <tr>\n",
       "      <th>18407</th>\n",
       "      <td>18407</td>\n",
       "      <td>cyLWtMSry58</td>\n",
       "      <td>Hey Daniel, just discovered your channel a cou...</td>\n",
       "      <td>35.0</td>\n",
       "      <td>2.0</td>\n",
       "      <td>sin clase</td>\n",
       "    </tr>\n",
       "    <tr>\n",
       "      <th>18408</th>\n",
       "      <td>18408</td>\n",
       "      <td>cyLWtMSry58</td>\n",
       "      <td>This is great. Focus is key. A playful approac...</td>\n",
       "      <td>0.0</td>\n",
       "      <td>2.0</td>\n",
       "      <td>sin clase</td>\n",
       "    </tr>\n",
       "  </tbody>\n",
       "</table>\n",
       "<p>18409 rows × 6 columns</p>\n",
       "</div>"
      ],
      "text/plain": [
       "       Unnamed: 0     Video ID  \\\n",
       "0               0  wAZZ-UWGVHI   \n",
       "1               1  wAZZ-UWGVHI   \n",
       "2               2  wAZZ-UWGVHI   \n",
       "3               3  wAZZ-UWGVHI   \n",
       "4               4  wAZZ-UWGVHI   \n",
       "...           ...          ...   \n",
       "18404       18404  cyLWtMSry58   \n",
       "18405       18405  cyLWtMSry58   \n",
       "18406       18406  cyLWtMSry58   \n",
       "18407       18407  cyLWtMSry58   \n",
       "18408       18408  cyLWtMSry58   \n",
       "\n",
       "                                                 Comment  Likes  Sentiment  \\\n",
       "0      Let's not forget that Apple Pay in 2014 requir...   95.0        1.0   \n",
       "1      Here in NZ 50% of retailers don’t even have co...   19.0        0.0   \n",
       "2      I will forever acknowledge this channel with t...  161.0        2.0   \n",
       "3      Whenever I go to a place that doesn’t take App...    8.0        0.0   \n",
       "4      Apple Pay is so convenient, secure, and easy t...   34.0        2.0   \n",
       "...                                                  ...    ...        ...   \n",
       "18404  I really like the point about engineering tool...    0.0        2.0   \n",
       "18405  I’ve just started exploring this field. And th...   20.0        2.0   \n",
       "18406  Excelente video con una pregunta filosófica pr...    1.0        1.0   \n",
       "18407  Hey Daniel, just discovered your channel a cou...   35.0        2.0   \n",
       "18408  This is great. Focus is key. A playful approac...    0.0        2.0   \n",
       "\n",
       "       ClaseMtto  \n",
       "0      sin clase  \n",
       "1      sin clase  \n",
       "2      sin clase  \n",
       "3      sin clase  \n",
       "4      sin clase  \n",
       "...          ...  \n",
       "18404  sin clase  \n",
       "18405  sin clase  \n",
       "18406  sin clase  \n",
       "18407  sin clase  \n",
       "18408  sin clase  \n",
       "\n",
       "[18409 rows x 6 columns]"
      ]
     },
     "execution_count": 26,
     "metadata": {},
     "output_type": "execute_result"
    }
   ],
   "source": [
    "data.assign(ClaseMtto = \"sin clase\")"
   ]
  },
  {
   "cell_type": "code",
   "execution_count": null,
   "id": "f02e1188-491e-4ae7-af96-fbf2d12b976c",
   "metadata": {},
   "outputs": [],
   "source": []
  },
  {
   "cell_type": "markdown",
   "id": "b1f0968d-32b5-479d-b721-5cf053c64fca",
   "metadata": {},
   "source": [
    "# El siguiente codigo es la base para hacer comprobacion ciclica de regex"
   ]
  },
  {
   "cell_type": "code",
   "execution_count": null,
   "id": "c8b46774-c9ef-47d0-b17c-b6368798075e",
   "metadata": {},
   "outputs": [],
   "source": []
  },
  {
   "cell_type": "code",
   "execution_count": 31,
   "id": "31946de6-d2c0-486e-9926-49584ba6967b",
   "metadata": {},
   "outputs": [
    {
     "name": "stdout",
     "output_type": "stream",
     "text": [
      "Unnamed: 0                                                    0\n",
      "Video ID                                            wAZZ-UWGVHI\n",
      "Comment       Let's not forget that Apple Pay in 2014 requir...\n",
      "Likes                                                      95.0\n",
      "Sentiment                                                   1.0\n",
      "ClaseMtto                                            Apple 2014\n",
      "Name: 0, dtype: object\n",
      "Comete mis calzones\n",
      "Comete mis calzones\n",
      "Comete mis calzones\n",
      "Comete mis calzones\n",
      "Comete mis calzones\n",
      "Comete mis calzones\n",
      "Comete mis calzones\n",
      "Comete mis calzones\n",
      "Comete mis calzones\n"
     ]
    }
   ],
   "source": [
    "for i in range(10):\n",
    "    if re.search('Apple.*2014',data.loc[i,'Comment']) is not None:\n",
    "        data.loc[i,'ClaseMtto'] = \"Apple 2014\"\n",
    "        print(data.loc[i,:])\n",
    "    else:\n",
    "        print(\"Comete mis calzones\")"
   ]
  },
  {
   "cell_type": "code",
   "execution_count": null,
   "id": "bc2b1535-93da-440f-90a8-b7cc06c10a0b",
   "metadata": {},
   "outputs": [],
   "source": []
  },
  {
   "cell_type": "code",
   "execution_count": null,
   "id": "3b7deea6-9ebb-40b1-b8ff-382543b04b8c",
   "metadata": {},
   "outputs": [],
   "source": [
    "def miRegex(frase):\n",
    "    if re.search(\"Apple\",data.loc[0,'Comment']:\n",
    "        print('lunes')\n",
    "elif dia == 2:\n",
    "        print('martes')\n",
    "elif dia == 3:\n",
    "        print('miércoles')\n",
    "elif dia == 4:\n",
    "        print('jueves')\n",
    "else:\n",
    "        print('error')\n"
   ]
  },
  {
   "cell_type": "code",
   "execution_count": null,
   "id": "c1660b3a-a88a-498f-b62f-df029720cdb9",
   "metadata": {},
   "outputs": [],
   "source": []
  },
  {
   "cell_type": "code",
   "execution_count": null,
   "id": "afdb7496-825a-43a7-9e47-0bdceb3fd87f",
   "metadata": {},
   "outputs": [],
   "source": []
  },
  {
   "cell_type": "code",
   "execution_count": null,
   "id": "2c64414d-e222-468d-9a22-fb9a0629de90",
   "metadata": {},
   "outputs": [],
   "source": []
  },
  {
   "cell_type": "code",
   "execution_count": null,
   "id": "6aa39d03-993f-4a9d-84d8-f642fa79d74e",
   "metadata": {},
   "outputs": [],
   "source": []
  },
  {
   "cell_type": "code",
   "execution_count": null,
   "id": "51a010bd-997c-4fcf-82ac-278c6c63ad44",
   "metadata": {},
   "outputs": [],
   "source": []
  },
  {
   "cell_type": "code",
   "execution_count": null,
   "id": "b5692d6f-0bc5-45ed-9caa-909e8c9804ec",
   "metadata": {},
   "outputs": [],
   "source": []
  },
  {
   "cell_type": "code",
   "execution_count": null,
   "id": "529d739a-47e2-42ed-a14b-36107e0a0008",
   "metadata": {},
   "outputs": [],
   "source": []
  },
  {
   "cell_type": "code",
   "execution_count": null,
   "id": "2194ae38-95c8-4c46-ac2a-15b27bc931ce",
   "metadata": {},
   "outputs": [],
   "source": []
  },
  {
   "cell_type": "code",
   "execution_count": null,
   "id": "f49c42d8-fa5e-42b0-9dfd-6084d4e506ff",
   "metadata": {},
   "outputs": [],
   "source": []
  },
  {
   "cell_type": "code",
   "execution_count": null,
   "id": "098f74e8-c480-4100-b271-b69f3683d49e",
   "metadata": {},
   "outputs": [],
   "source": []
  },
  {
   "cell_type": "code",
   "execution_count": null,
   "id": "5ce25bc5-ce24-47b2-a227-2651a58e890b",
   "metadata": {},
   "outputs": [],
   "source": []
  },
  {
   "cell_type": "code",
   "execution_count": null,
   "id": "441d54f2-2619-4c7b-ac17-2c1bbfe61776",
   "metadata": {},
   "outputs": [],
   "source": []
  },
  {
   "cell_type": "code",
   "execution_count": null,
   "id": "6c2eb7a1-c32d-4e7d-9b6f-2b4fc23a420e",
   "metadata": {},
   "outputs": [],
   "source": []
  },
  {
   "cell_type": "code",
   "execution_count": null,
   "id": "ca197bf9-6251-41e8-b539-01f2d647b628",
   "metadata": {},
   "outputs": [],
   "source": []
  },
  {
   "cell_type": "code",
   "execution_count": null,
   "id": "ae27b724-ab8d-4c10-83bb-91c2347c93ec",
   "metadata": {},
   "outputs": [],
   "source": []
  },
  {
   "cell_type": "code",
   "execution_count": null,
   "id": "8fa3b597-5a03-44c9-a65d-46529d4704ef",
   "metadata": {},
   "outputs": [],
   "source": []
  },
  {
   "cell_type": "code",
   "execution_count": null,
   "id": "e9e7f46e-d933-4dbc-8ad4-65d54b500ffe",
   "metadata": {},
   "outputs": [],
   "source": []
  },
  {
   "cell_type": "code",
   "execution_count": null,
   "id": "3d4a7075-6071-4af7-b9ea-46f623f4dce6",
   "metadata": {},
   "outputs": [],
   "source": []
  },
  {
   "cell_type": "code",
   "execution_count": null,
   "id": "a78c0bef-ee31-470e-93bb-0b2e5e1a4f4f",
   "metadata": {},
   "outputs": [],
   "source": []
  },
  {
   "cell_type": "code",
   "execution_count": null,
   "id": "99d2c6cf-48dd-47d1-9543-0fb7fa64580a",
   "metadata": {},
   "outputs": [],
   "source": []
  },
  {
   "cell_type": "code",
   "execution_count": null,
   "id": "fe1abee5-7141-419e-aabc-d8fb19ae0e3c",
   "metadata": {},
   "outputs": [],
   "source": []
  },
  {
   "cell_type": "code",
   "execution_count": null,
   "id": "a6611f42-4c4a-4a08-a975-be3ee8f60dce",
   "metadata": {},
   "outputs": [],
   "source": []
  },
  {
   "cell_type": "code",
   "execution_count": null,
   "id": "a4996d9c-968e-4427-bfea-a341656af197",
   "metadata": {},
   "outputs": [],
   "source": []
  },
  {
   "cell_type": "code",
   "execution_count": 12,
   "id": "beff2887-e325-417c-8694-25f6edae52b4",
   "metadata": {},
   "outputs": [
    {
     "data": {
      "text/plain": [
       "0     True\n",
       "1     True\n",
       "2    False\n",
       "3     True\n",
       "4     True\n",
       "Name: Comment, dtype: object"
      ]
     },
     "execution_count": 12,
     "metadata": {},
     "output_type": "execute_result"
    }
   ],
   "source": [
    "new2.head()"
   ]
  },
  {
   "cell_type": "code",
   "execution_count": null,
   "id": "3ffadfcc-ead1-41d8-bfcc-b27ab710420d",
   "metadata": {},
   "outputs": [],
   "source": []
  },
  {
   "cell_type": "code",
   "execution_count": null,
   "id": "8e0a4008-270c-4b40-b932-ce79bd4c26e8",
   "metadata": {},
   "outputs": [],
   "source": []
  },
  {
   "cell_type": "code",
   "execution_count": null,
   "id": "431a0406-94be-46aa-bea7-ad858b089578",
   "metadata": {},
   "outputs": [],
   "source": []
  }
 ],
 "metadata": {
  "kernelspec": {
   "display_name": "Python 3 (ipykernel)",
   "language": "python",
   "name": "python3"
  },
  "language_info": {
   "codemirror_mode": {
    "name": "ipython",
    "version": 3
   },
   "file_extension": ".py",
   "mimetype": "text/x-python",
   "name": "python",
   "nbconvert_exporter": "python",
   "pygments_lexer": "ipython3",
   "version": "3.10.0"
  }
 },
 "nbformat": 4,
 "nbformat_minor": 5
}
